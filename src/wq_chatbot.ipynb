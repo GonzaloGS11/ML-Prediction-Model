{
 "cells": [
  {
   "cell_type": "code",
   "execution_count": 1,
   "metadata": {
    "executionInfo": {
     "elapsed": 5330,
     "status": "ok",
     "timestamp": 1745119723940,
     "user": {
      "displayName": "Gonzalo Gómez",
      "userId": "03831563026472779099"
     },
     "user_tz": 360
    },
    "id": "mTr85AEdrJon"
   },
   "outputs": [],
   "source": [
    "!pip install python-telegram-bot > /dev/null 2>&1\n"
   ]
  },
  {
   "cell_type": "code",
   "execution_count": 2,
   "metadata": {
    "colab": {
     "base_uri": "https://localhost:8080/",
     "height": 351
    },
    "executionInfo": {
     "elapsed": 57,
     "status": "error",
     "timestamp": 1745119888903,
     "user": {
      "displayName": "Gonzalo Gómez",
      "userId": "03831563026472779099"
     },
     "user_tz": 360
    },
    "id": "TO3KAQIoywAj",
    "outputId": "d071d15f-d338-4c1d-e2bf-f242286ecf92"
   },
   "outputs": [
    {
     "name": "stdout",
     "output_type": "stream",
     "text": [
      "🤖 Bot en marcha. Envíale /start en Telegram para comenzar.\n"
     ]
    },
    {
     "name": "stderr",
     "output_type": "stream",
     "text": [
      "No error handlers are registered, logging exception.\n",
      "Traceback (most recent call last):\n",
      "  File \"/media/ggmez/disco_compartido/Usuarios/ggmez2/Documentos/magister_ing_informatica/.venv/lib/python3.10/site-packages/telegram/ext/_application.py\", line 1298, in process_update\n",
      "    await coroutine\n",
      "  File \"/media/ggmez/disco_compartido/Usuarios/ggmez2/Documentos/magister_ing_informatica/.venv/lib/python3.10/site-packages/telegram/ext/_handlers/conversationhandler.py\", line 842, in handle_update\n",
      "    new_state: object = await handler.handle_update(\n",
      "  File \"/media/ggmez/disco_compartido/Usuarios/ggmez2/Documentos/magister_ing_informatica/.venv/lib/python3.10/site-packages/telegram/ext/_handlers/basehandler.py\", line 158, in handle_update\n",
      "    return await self.callback(update, context)\n",
      "  File \"/tmp/ipykernel_13449/2498237660.py\", line 29, in ask_ph\n",
      "    user_data[update.message.chat_id]['ph'] = float(update.message.text)\n",
      "ValueError: could not convert string to float: 'Hola'\n"
     ]
    },
    {
     "ename": "CancelledError",
     "evalue": "",
     "output_type": "error",
     "traceback": [
      "\u001b[0;31m---------------------------------------------------------------------------\u001b[0m",
      "\u001b[0;31mCancelledError\u001b[0m                            Traceback (most recent call last)",
      "Cell \u001b[0;32mIn[2], line 116\u001b[0m\n\u001b[1;32m    113\u001b[0m     \u001b[38;5;28;01mawait\u001b[39;00m asyncio\u001b[38;5;241m.\u001b[39mEvent()\u001b[38;5;241m.\u001b[39mwait()\n\u001b[1;32m    115\u001b[0m \u001b[38;5;66;03m# Run\u001b[39;00m\n\u001b[0;32m--> 116\u001b[0m \u001b[38;5;28;01mawait\u001b[39;00m main_async()\n",
      "Cell \u001b[0;32mIn[2], line 113\u001b[0m, in \u001b[0;36mmain_async\u001b[0;34m()\u001b[0m\n\u001b[1;32m    111\u001b[0m \u001b[38;5;28mprint\u001b[39m(\u001b[38;5;124m\"\u001b[39m\u001b[38;5;124m🤖 Bot en marcha. Envíale /start en Telegram para comenzar.\u001b[39m\u001b[38;5;124m\"\u001b[39m)\n\u001b[1;32m    112\u001b[0m \u001b[38;5;28;01mawait\u001b[39;00m application\u001b[38;5;241m.\u001b[39mupdater\u001b[38;5;241m.\u001b[39mstart_polling()\n\u001b[0;32m--> 113\u001b[0m \u001b[38;5;28;01mawait\u001b[39;00m asyncio\u001b[38;5;241m.\u001b[39mEvent()\u001b[38;5;241m.\u001b[39mwait()\n",
      "File \u001b[0;32m/usr/lib/python3.10/asyncio/locks.py:214\u001b[0m, in \u001b[0;36mEvent.wait\u001b[0;34m(self)\u001b[0m\n\u001b[1;32m    212\u001b[0m \u001b[38;5;28mself\u001b[39m\u001b[38;5;241m.\u001b[39m_waiters\u001b[38;5;241m.\u001b[39mappend(fut)\n\u001b[1;32m    213\u001b[0m \u001b[38;5;28;01mtry\u001b[39;00m:\n\u001b[0;32m--> 214\u001b[0m     \u001b[38;5;28;01mawait\u001b[39;00m fut\n\u001b[1;32m    215\u001b[0m     \u001b[38;5;28;01mreturn\u001b[39;00m \u001b[38;5;28;01mTrue\u001b[39;00m\n\u001b[1;32m    216\u001b[0m \u001b[38;5;28;01mfinally\u001b[39;00m:\n",
      "\u001b[0;31mCancelledError\u001b[0m: "
     ]
    }
   ],
   "source": [
    "import joblib\n",
    "from telegram import Update\n",
    "from telegram.ext import (Application, CommandHandler, MessageHandler, filters, CallbackContext, ConversationHandler)\n",
    "import numpy as np\n",
    "import asyncio\n",
    "\n",
    "# Load model\n",
    "model = joblib.load('wq_model.pkl')\n",
    "\n",
    "# Conversation States\n",
    "PH, DUREZA, SOLIDOS, CLORAMINAS, SULFATO, CONDUCTIVIDAD, CARBONO_ORGANICO, TRIHALOMETANOS, TURBIEDAD = range(9)\n",
    "\n",
    "# Dictionary for user data\n",
    "user_data = {}\n",
    "\n",
    "# Prediction\n",
    "def predecir_potabilidad(ph, dureza, solidos, cloraminas, sulfato, conductividad, carbono_organico, trihalometanos, turbiedad):\n",
    "\n",
    "    prediction = model.predict(np.array([[Ph, Dureza, Solidos, Cloraminas, Sulfato, Conductividad, Carbono_Organico, Trihalometanos, Turbiedad]]))\n",
    "    return prediction[0]\n",
    "\n",
    "# Start\n",
    "async def start(update: Update, context: CallbackContext):\n",
    "    user_data[update.message.chat_id] = {}\n",
    "    await update.message.reply_text(\"¡Hello! I am your water classification bot. \\nWhat is the pH of the water?\")\n",
    "    return PH\n",
    "\n",
    "async def ask_ph(update: Update, context: CallbackContext):\n",
    "    user_data[update.message.chat_id]['ph'] = float(update.message.text)\n",
    "    await update.message.reply_text(\"What is the hardness of the water?\")\n",
    "    return DUREZA\n",
    "\n",
    "async def ask_dureza(update: Update, context: CallbackContext):\n",
    "    user_data[update.message.chat_id]['dureza'] = float(update.message.text)\n",
    "    await update.message.reply_text(\"What is the amount of solids in the water?\")\n",
    "    return SOLIDOS\n",
    "\n",
    "async def ask_solidos(update: Update, context: CallbackContext):\n",
    "    user_data[update.message.chat_id]['solidos'] = float(update.message.text)\n",
    "    await update.message.reply_text(\"What is the amount of chloramines in the water?\")\n",
    "    return CLORAMINAS\n",
    "\n",
    "async def ask_cloraminas(update: Update, context: CallbackContext):\n",
    "    user_data[update.message.chat_id]['cloraminas'] = float(update.message.text)\n",
    "    await update.message.reply_text(\"What is the amount of sulfate in the water?\")\n",
    "    return SULFATO\n",
    "\n",
    "async def ask_sulfato(update: Update, context: CallbackContext):\n",
    "    user_data[update.message.chat_id]['sulfato'] = float(update.message.text)\n",
    "    await update.message.reply_text(\"What is the conductivity of the water\")\n",
    "    return CONDUCTIVIDAD\n",
    "\n",
    "async def ask_conductividad(update: Update, context: CallbackContext):\n",
    "    user_data[update.message.chat_id]['conductividad'] = float(update.message.text)\n",
    "    await update.message.reply_text(\"What is the amount of organic carbon in the water?\")\n",
    "    return CARBONO_ORGANICO\n",
    "\n",
    "async def ask_carbono_organico(update: Update, context: CallbackContext):\n",
    "    user_data[update.message.chat_id]['carbono_organico'] = float(update.message.text)\n",
    "    await update.message.reply_text(\"What is the amount of trihalomethanes in the water?\")\n",
    "    return TRIHALOMETANOS\n",
    "\n",
    "async def ask_trihalometanos(update: Update, context: CallbackContext):\n",
    "    user_data[update.message.chat_id]['trihalometanos'] = float(update.message.text)\n",
    "    await update.message.reply_text(\"What is the turbidity of the water?\")\n",
    "    return TURBIEDAD\n",
    "\n",
    "async def ask_turbiedad(update: Update, context: CallbackContext):\n",
    "    user_data[update.message.chat_id]['turbiedad'] = float(update.message.text)\n",
    "\n",
    "    datos = user_data[update.message.chat_id]\n",
    "    Potabilidad = predecir_potabilidad(\n",
    "        datos['Ph'],\n",
    "        datos['Dureza'],\n",
    "        datos['Solidos'],\n",
    "        datos['Cloraminas'],\n",
    "        datos['Sulfato'],\n",
    "        datos['Conductividad'],\n",
    "        datos['Carbono_Organico'],\n",
    "        datos['Trihalometanos'],\n",
    "        datos['Turbiedad']\n",
    "    )\n",
    "\n",
    "    await update.message.reply_text(f\"The water is: *{Potabilidad}*\", parse_mode='Markdown')\n",
    "    return ConversationHandler.END\n",
    "\n",
    "# Function to launch the bot\n",
    "async def main_async():\n",
    "    application = Application.builder().token('7382073799:AAGvv6zFldWbO1RrQWzF7MlOCrjda0hAQhc').build()\n",
    "\n",
    "    conversation_handler = ConversationHandler(\n",
    "        entry_points=[CommandHandler('start', start)],\n",
    "        states={\n",
    "            PH: [MessageHandler(filters.TEXT & ~filters.COMMAND, ask_ph)],\n",
    "            DUREZA: [MessageHandler(filters.TEXT & ~filters.COMMAND, ask_dureza)],\n",
    "            SOLIDOS: [MessageHandler(filters.TEXT & ~filters.COMMAND, ask_solidos)],\n",
    "            CLORAMINAS: [MessageHandler(filters.TEXT & ~filters.COMMAND, ask_cloraminas)],\n",
    "            SULFATO: [MessageHandler(filters.TEXT & ~filters.COMMAND, ask_sulfato)],\n",
    "            CONDUCTIVIDAD: [MessageHandler(filters.TEXT & ~filters.COMMAND, ask_conductividad)],\n",
    "            CARBONO_ORGANICO: [MessageHandler(filters.TEXT & ~filters.COMMAND, ask_carbono_organico)],\n",
    "            TRIHALOMETANOS: [MessageHandler(filters.TEXT & ~filters.COMMAND, ask_trihalometanos)],\n",
    "            TURBIEDAD: [MessageHandler(filters.TEXT & ~filters.COMMAND, ask_turbiedad)],\n",
    "        },\n",
    "        fallbacks=[],\n",
    "    )\n",
    "\n",
    "    application.add_handler(conversation_handler)\n",
    "\n",
    "    await application.initialize()\n",
    "    await application.start()\n",
    "    print(\"🤖 Bot en marcha. Envíale /start en Telegram para comenzar.\")\n",
    "    await application.updater.start_polling()\n",
    "    await asyncio.Event().wait()\n",
    "\n",
    "# Run\n",
    "await main_async()\n",
    "\n",
    "\n"
   ]
  },
  {
   "cell_type": "code",
   "execution_count": null,
   "metadata": {
    "id": "vdw2nIpiPW6f"
   },
   "outputs": [],
   "source": []
  }
 ],
 "metadata": {
  "colab": {
   "provenance": []
  },
  "kernelspec": {
   "display_name": ".venv",
   "language": "python",
   "name": "python3"
  },
  "language_info": {
   "codemirror_mode": {
    "name": "ipython",
    "version": 3
   },
   "file_extension": ".py",
   "mimetype": "text/x-python",
   "name": "python",
   "nbconvert_exporter": "python",
   "pygments_lexer": "ipython3",
   "version": "3.10.12"
  }
 },
 "nbformat": 4,
 "nbformat_minor": 0
}
